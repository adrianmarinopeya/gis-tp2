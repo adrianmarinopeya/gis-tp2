{
 "cells": [
  {
   "cell_type": "markdown",
   "id": "246f29a3-278c-48d3-bafe-cfe4884a3268",
   "metadata": {},
   "source": [
    "## Descargar Dataset"
   ]
  },
  {
   "cell_type": "markdown",
   "id": "cf5113e0-78e8-411d-b9da-0b8f49ba5078",
   "metadata": {},
   "source": [
    "Enlaces:\n",
    "* [Teledetección - Orfeo Toolbox - Google Cloud](https://docs.google.com/document/d/1V5d6icd6FHN4cgtVkrzZ2r7HdtUg5CaChsi9wT5yDkA)\n",
    "* [Bitácora ejercicios teledetección](https://docs.google.com/document/d/1zE4oFIGIQ0yXZJmgxsoPdYhyew2kUoMXQmr5WwbEMwY)\n",
    "* [Scripts](https://github.com/fedebayle/tp-2-gis-dm-uba)"
   ]
  },
  {
   "cell_type": "markdown",
   "id": "d8bf64e0-987e-4ae3-8d4c-1e1396a05c1a",
   "metadata": {},
   "source": [
    "Decargamos la imagen inicial desde el bucket plublico en google clod ([Ver](https://cloud.google.com/storage/docs/access-public-data?hl=es_419)):"
   ]
  },
  {
   "cell_type": "code",
   "execution_count": 26,
   "id": "20230ff9-f182-44ca-8abb-db4bacef172d",
   "metadata": {},
   "outputs": [],
   "source": [
    "IMAGES_PATH = \"../datasets/images\"\n",
    "DATA_PATH   = \"../datasets/data\""
   ]
  },
  {
   "cell_type": "code",
   "execution_count": 27,
   "id": "742cf621-41c5-4d2a-a46b-45467b7a2be2",
   "metadata": {},
   "outputs": [],
   "source": [
    "!mkdir -p {IMAGES_PATH}\n",
    "!mkdir -p {DATA_PATH}"
   ]
  },
  {
   "cell_type": "code",
   "execution_count": 21,
   "id": "a4e0063b-df3b-4282-939c-167d53898f9d",
   "metadata": {},
   "outputs": [
    {
     "name": "stdout",
     "output_type": "stream",
     "text": [
      "--2022-06-09 22:08:08--  https://storage.googleapis.com/dym-temp-public/taller-uruguay/samples/AOI0/aoi0.tif\n",
      "Loaded CA certificate '/etc/ssl/certs/ca-certificates.crt'\n",
      "Resolving storage.googleapis.com (storage.googleapis.com)... 142.251.133.80, 172.217.172.112, 142.251.133.48, ...\n",
      "Connecting to storage.googleapis.com (storage.googleapis.com)|142.251.133.80|:443... connected.\n",
      "HTTP request sent, awaiting response... 200 OK\n",
      "Length: 348504386 (332M) [image/tiff]\n",
      "Saving to: ‘aoi0.tif.1’\n",
      "\n",
      "aoi0.tif.1          100%[===================>] 332.36M  13.4MB/s    in 25s     \n",
      "\n",
      "2022-06-09 22:08:34 (13.3 MB/s) - ‘aoi0.tif.1’ saved [348504386/348504386]\n",
      "\n"
     ]
    }
   ],
   "source": [
    "!cd  {IMAGES_PATH}; wget https://storage.googleapis.com/dym-temp-public/taller-uruguay/samples/AOI0/aoi0.tif"
   ]
  },
  {
   "cell_type": "code",
   "execution_count": 18,
   "id": "247b6819-97d5-4b80-abb4-984890a0cb8f",
   "metadata": {},
   "outputs": [
    {
     "name": "stdout",
     "output_type": "stream",
     "text": [
      "333M\taoi0.tif\n"
     ]
    }
   ],
   "source": [
    "!cd {IMAGES_PATH}; du -h * "
   ]
  },
  {
   "cell_type": "code",
   "execution_count": 32,
   "id": "2de260d6-d2fb-4086-84b2-c6df5a8d6c1a",
   "metadata": {},
   "outputs": [
    {
     "name": "stdout",
     "output_type": "stream",
     "text": [
      "--2022-06-09 22:24:31--  https://storage.googleapis.com/gis2022-teledeteccion/clase10/data/classes.geojson\n",
      "Loaded CA certificate '/etc/ssl/certs/ca-certificates.crt'\n",
      "Resolving storage.googleapis.com (storage.googleapis.com)... 142.250.79.80, 216.58.202.112, 216.58.202.80, ...\n",
      "Connecting to storage.googleapis.com (storage.googleapis.com)|142.250.79.80|:443... connected.\n",
      "HTTP request sent, awaiting response... 200 OK\n",
      "Length: 9235 (9.0K) [application/octet-stream]\n",
      "Saving to: ‘classes.geojson’\n",
      "\n",
      "classes.geojson     100%[===================>]   9.02K  --.-KB/s    in 0s      \n",
      "\n",
      "2022-06-09 22:24:32 (182 MB/s) - ‘classes.geojson’ saved [9235/9235]\n",
      "\n"
     ]
    }
   ],
   "source": [
    "!cd {DATA_PATH}; wget https://storage.googleapis.com/gis2022-teledeteccion/clase10/data/classes.geojson"
   ]
  }
 ],
 "metadata": {
  "kernelspec": {
   "display_name": "Python 3 (ipykernel)",
   "language": "python",
   "name": "python3"
  },
  "language_info": {
   "codemirror_mode": {
    "name": "ipython",
    "version": 3
   },
   "file_extension": ".py",
   "mimetype": "text/x-python",
   "name": "python",
   "nbconvert_exporter": "python",
   "pygments_lexer": "ipython3",
   "version": "3.10.4"
  }
 },
 "nbformat": 4,
 "nbformat_minor": 5
}
